{
 "cells": [
  {
   "cell_type": "markdown",
   "metadata": {},
   "source": [
    "# Setup and load data:"
   ]
  },
  {
   "cell_type": "code",
   "execution_count": null,
   "metadata": {},
   "outputs": [],
   "source": [
    "%load_ext autoreload\n",
    "%autoreload 2\n",
    "\n",
    "from functions.functions import *\n",
    "from functions.plotting import *\n",
    "from functions.autoencoder import *\n",
    "from functions.mdn import *\n",
    "from keras import backend as K\n",
    "from keras.callbacks import TerminateOnNaN, ModelCheckpoint\n",
    "from keras.models import model_from_json\n",
    "from livelossplot.keras import PlotLossesCallback\n",
    "import livelossplot\n",
    "import tensorflow as tf\n",
    "import numpy as np\n",
    "import os\n",
    "import glob\n",
    "from itertools import combinations\n",
    "import matplotlib\n",
    "plt.rcParams['animation.ffmpeg_path'] = '/gpfs/loomis/project/hep/demers/mnp3/conda_envs/choreo/bin/ffmpeg' # for using html5 video in Jupyter notebook\n",
    "print(matplotlib.animation.writers.list()) # check that ffmpeg is loaded. if it's not there, use .to_jshtml() instead of .to_html5_video()."
   ]
  },
  {
   "cell_type": "code",
   "execution_count": null,
   "metadata": {},
   "outputs": [],
   "source": [
    "setup_gpus()"
   ]
  },
  {
   "cell_type": "code",
   "execution_count": null,
   "metadata": {},
   "outputs": [],
   "source": [
    "data = load_data('rnn_data/mariel_*')"
   ]
  },
  {
   "cell_type": "markdown",
   "metadata": {},
   "source": [
    "# Check out the real data:"
   ]
  },
  {
   "cell_type": "code",
   "execution_count": null,
   "metadata": {
    "scrolled": false
   },
   "outputs": [],
   "source": [
    "frame = np.random.randint(0,data.full.X.shape[1]-50)\n",
    "print(\"Starting from frame {}...\".format(frame))\n",
    "\n",
    "HTML(animate(data.full.X[:,frame:,:], frames=100))\n",
    "# HTML(animate(data.selected.X[:,frame:,:], frames=100, edges=data.selected.edges, colors='black'))"
   ]
  },
  {
   "cell_type": "markdown",
   "metadata": {},
   "source": [
    "# Build the autoencoder for poses"
   ]
  },
  {
   "cell_type": "markdown",
   "metadata": {},
   "source": [
    "### Define the training dataset:"
   ]
  },
  {
   "cell_type": "code",
   "execution_count": null,
   "metadata": {},
   "outputs": [],
   "source": [
    "# X_train = data.selected.X    # 15 joints\n",
    "X_train = data.full.X[:,:int(data.full.X.shape[1]*.8),:]    # 53 joints (80% train)\n",
    "X_test = data.full.X[:,int(data.full.X.shape[1]*.8):,:]    # 53 joints (20% test)\n",
    "print(\"Training set size: {}\".format(X_train.shape))\n",
    "print(\"Test set size: {}\".format(X_test.shape))"
   ]
  },
  {
   "cell_type": "markdown",
   "metadata": {},
   "source": [
    "### Train without adding random (x,y) offsets:"
   ]
  },
  {
   "cell_type": "code",
   "execution_count": null,
   "metadata": {
    "scrolled": false
   },
   "outputs": [],
   "source": [
    "ae_nooffset = Autoencoder(n_verts=X_train.shape[0], latent_dim=32, n_layers=2, n_units=64, relu=True, dropout=False, add_random_offsets=False)\n",
    "X_T = X_train.transpose((1,0,2))\n",
    "ae_nooffset.model.fit(X_T, X_T, batch_size = 128, epochs = 50)"
   ]
  },
  {
   "cell_type": "markdown",
   "metadata": {},
   "source": [
    "### Real data in blue, autoencoded predictions in orange (we want these to be very similar):"
   ]
  },
  {
   "cell_type": "code",
   "execution_count": null,
   "metadata": {},
   "outputs": [],
   "source": [
    "n_frames = 100\n",
    "frame = np.random.randint(0,X_test.shape[1]-n_frames)\n",
    "print(\"Seeding with frame {}\".format(frame))\n",
    "nooffset_predictions = ae_nooffset.get_predictions(X_test, start_frame=frame, n_frames=n_frames)\n",
    "HTML(animate_ghost(X_test[:,frame:,:], nooffset_predictions, frames=n_frames, ghost_shift=0.2))"
   ]
  },
  {
   "cell_type": "markdown",
   "metadata": {},
   "source": [
    "### Train with adding random (x,y) offsets to the input data:"
   ]
  },
  {
   "cell_type": "code",
   "execution_count": null,
   "metadata": {
    "scrolled": false
   },
   "outputs": [],
   "source": [
    "ae_withoffset = Autoencoder(n_verts=X_train.shape[0], latent_dim=32, n_layers=2, n_units=64, relu=True, dropout=False, add_random_offsets=False)\n",
    "X_T = X_train.transpose((1,0,2))\n",
    "ae_withoffset.model.fit(X_T, X_T, batch_size = 128, epochs = 50)"
   ]
  },
  {
   "cell_type": "markdown",
   "metadata": {},
   "source": [
    "### Real data in blue, autoencoded predictions in orange (we want these to be very similar):"
   ]
  },
  {
   "cell_type": "code",
   "execution_count": null,
   "metadata": {
    "scrolled": false
   },
   "outputs": [],
   "source": [
    "n_frames = 100\n",
    "frame = np.random.randint(0,X_test.shape[1]-n_frames)\n",
    "print(\"Seeding with frame {}\".format(frame)) \n",
    "withoffset_predictions = ae_withoffset.get_predictions(X_test, start_frame=frame, n_frames=n_frames)\n",
    "HTML(animate_ghost(X_test[:,frame:,:], withoffset_predictions, frames=n_frames, ghost_shift=0.2))"
   ]
  },
  {
   "cell_type": "markdown",
   "metadata": {},
   "source": [
    "# Compare predictions with and without (x,y) offsets:"
   ]
  },
  {
   "cell_type": "code",
   "execution_count": null,
   "metadata": {},
   "outputs": [],
   "source": [
    "n_frames = 100\n",
    "frame = np.random.randint(0,X_test.shape[1]-n_frames)\n",
    "print(\"Seeding with frame {}\".format(frame)) \n",
    "nooffset_predictions = ae_nooffset.get_predictions(X_test, start_frame=frame, n_frames=n_frames)\n",
    "withoffset_predictions = ae_withoffset.get_predictions(X_test, start_frame=frame, n_frames=n_frames)\n",
    "HTML(animate_ghost(nooffset_predictions, withoffset_predictions, frames=n_frames, ghost_shift=0.2))"
   ]
  },
  {
   "cell_type": "code",
   "execution_count": null,
   "metadata": {},
   "outputs": [],
   "source": []
  }
 ],
 "metadata": {
  "kernelspec": {
   "display_name": "choreo",
   "language": "python",
   "name": "choreo"
  },
  "language_info": {
   "codemirror_mode": {
    "name": "ipython",
    "version": 3
   },
   "file_extension": ".py",
   "mimetype": "text/x-python",
   "name": "python",
   "nbconvert_exporter": "python",
   "pygments_lexer": "ipython3",
   "version": "3.7.3"
  }
 },
 "nbformat": 4,
 "nbformat_minor": 2
}
