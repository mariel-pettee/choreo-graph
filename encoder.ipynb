{
 "cells": [
  {
   "cell_type": "code",
   "execution_count": null,
   "metadata": {},
   "outputs": [],
   "source": [
    "%reload_ext autoreload\n",
    "%autoreload 2\n",
    "%matplotlib inline"
   ]
  },
  {
   "cell_type": "code",
   "execution_count": null,
   "metadata": {},
   "outputs": [],
   "source": [
    "import torch\n",
    "from torch.utils.data import Dataset\n",
    "from torch.utils.data.dataset import TensorDataset\n",
    "from torch_geometric.data import DataLoader\n",
    "from torch_geometric.data import Data\n",
    "from torch_geometric.utils.convert import to_networkx\n",
    "import torch.nn as nn\n",
    "\n",
    "import networkx as nx # for visualizing graphs\n",
    "import numpy as np\n",
    "import pandas as pd\n",
    "import matplotlib.pyplot as plt\n",
    "from tqdm import tqdm\n",
    "\n",
    "from functions.load_data import MarielDataset, edges"
   ]
  },
  {
   "cell_type": "markdown",
   "metadata": {},
   "source": [
    "##### Encoder Procedure\n",
    "1. Create an embedding of the node features (H) using an MLP\n",
    "2. Create a message to pass through the edges of the graph using the embedded node features (H) and another MLP\n",
    "3. Aggregate the messages created in Step 2 for each node to update node features\n",
    "4. Pass the updated node features through another MLP to get the \"Pre-posterior\"; the posterior then becomes the softmax of the pre-posterior"
   ]
  },
  {
   "cell_type": "markdown",
   "metadata": {},
   "source": [
    "# Load data"
   ]
  },
  {
   "cell_type": "code",
   "execution_count": null,
   "metadata": {},
   "outputs": [],
   "source": [
    "data = MarielDataset(seq_len=10, reduced_joints=True)\n",
    "dataloader = DataLoader(data, batch_size=2, shuffle=False)\n",
    "print(\"\\nGenerated {:,} sequences of shape: {}\".format(len(data), data[0]))"
   ]
  },
  {
   "cell_type": "markdown",
   "metadata": {},
   "source": [
    "# To do list\n",
    "- Turn node embedding MLP into a linear layer (no hidden layer)\n",
    "- Add depth parameter to MLPEncoder (multiple MLPGraphConv layers)"
   ]
  },
  {
   "cell_type": "markdown",
   "metadata": {},
   "source": [
    "# Construct model & train"
   ]
  },
  {
   "cell_type": "code",
   "execution_count": null,
   "metadata": {},
   "outputs": [],
   "source": [
    "from functions.modules import MLP, MLPGraphConv, MLPEncoder\n",
    "\n",
    "node_features = 30 # data.seq_len*data.n_dim\n",
    "edge_features = 10 # data[0].num_edge_features\n",
    "\n",
    "model = MLPEncoder(node_features=node_features, \n",
    "                   edge_features=edge_features, \n",
    "                   hidden_size=25, \n",
    "                   node_embedding_dim=20, \n",
    "                   depth=2)\n",
    "\n",
    "device = torch.device('cuda' if torch.cuda.is_available() else 'cpu')\n",
    "print(\"Using {}\".format(device))\n",
    "model = model.to(device)\n",
    "optimizer = torch.optim.Adam(model.parameters(), lr=0.01, weight_decay=5e-4)\n",
    "loss_func = nn.MSELoss()\n",
    "dummy_matrix = torch.tensor(np.ones((36,20)), dtype=torch.float)\n",
    "dummy_matrix = dummy_matrix.to(device)\n",
    "\n",
    "def train():\n",
    "    losses = []\n",
    "    model.train()\n",
    "    for batch in dataloader:\n",
    "        batch = batch.to(device)\n",
    "        optimizer.zero_grad()\n",
    "        output = model(batch)\n",
    "        loss = loss_func(output, dummy_matrix) # would normally use batch.y here for the full AE\n",
    "        print(\"Loss: {}\".format(loss.item()))\n",
    "        loss.backward()\n",
    "        optimizer.step()\n",
    "        losses.append(loss.item())\n",
    "    return losses"
   ]
  },
  {
   "cell_type": "code",
   "execution_count": null,
   "metadata": {},
   "outputs": [],
   "source": [
    "for epoch in range(10):\n",
    "    train()"
   ]
  },
  {
   "cell_type": "code",
   "execution_count": null,
   "metadata": {},
   "outputs": [],
   "source": []
  }
 ],
 "metadata": {
  "kernelspec": {
   "display_name": "Python 3",
   "language": "python",
   "name": "python3"
  },
  "language_info": {
   "codemirror_mode": {
    "name": "ipython",
    "version": 3
   },
   "file_extension": ".py",
   "mimetype": "text/x-python",
   "name": "python",
   "nbconvert_exporter": "python",
   "pygments_lexer": "ipython3",
   "version": "3.6.5"
  }
 },
 "nbformat": 4,
 "nbformat_minor": 4
}
