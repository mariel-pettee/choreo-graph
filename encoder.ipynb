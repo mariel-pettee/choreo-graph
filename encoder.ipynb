{
 "cells": [
  {
   "cell_type": "code",
   "execution_count": null,
   "metadata": {},
   "outputs": [],
   "source": [
    "%reload_ext autoreload\n",
    "%autoreload 2\n",
    "%matplotlib inline"
   ]
  },
  {
   "cell_type": "code",
   "execution_count": null,
   "metadata": {},
   "outputs": [],
   "source": [
    "import torch\n",
    "from torch.utils.data import Dataset\n",
    "from torch.utils.data.dataset import TensorDataset\n",
    "from torch_geometric.data import DataLoader\n",
    "from torch_geometric.data import Data\n",
    "from torch_geometric.utils.convert import to_networkx\n",
    "\n",
    "import networkx as nx # for visualizing graphs\n",
    "import numpy as np\n",
    "import pandas as pd\n",
    "import matplotlib.pyplot as plt\n",
    "from tqdm import tqdm\n",
    "\n",
    "from functions.load_data import load_data, MarielDataset, edges"
   ]
  },
  {
   "cell_type": "markdown",
   "metadata": {},
   "source": [
    "##### Encoder Procedure\n",
    "1. Create an embedding of the node features (H) using an MLP\n",
    "2. Create a message to pass through the edges of the graph using the embedded node features (H) and another MLP\n",
    "3. Aggregate the messages created in Step 2 for each node to update node features\n",
    "4. Pass the updated node features through another MLP to get the \"Pre-posterior\"; the posterior then becomes the softmax of the pre-posterior"
   ]
  },
  {
   "cell_type": "markdown",
   "metadata": {},
   "source": [
    "# Load data"
   ]
  },
  {
   "cell_type": "code",
   "execution_count": null,
   "metadata": {},
   "outputs": [],
   "source": [
    "data = MarielDataset(seq_len=10, n_joints=53)\n",
    "dataloader = DataLoader(data, batch_size=32, shuffle=False)\n",
    "\n",
    "\n",
    "print(\"\\nGenerated {:,} sequences of shape: {}\".format(len(data), data[0]))"
   ]
  },
  {
   "cell_type": "code",
   "execution_count": null,
   "metadata": {},
   "outputs": [],
   "source": [
    "data[0].num_nodes"
   ]
  },
  {
   "cell_type": "code",
   "execution_count": null,
   "metadata": {},
   "outputs": [],
   "source": [
    "data[0].num_edges"
   ]
  },
  {
   "cell_type": "code",
   "execution_count": null,
   "metadata": {},
   "outputs": [],
   "source": [
    "data[0].is_directed()"
   ]
  },
  {
   "cell_type": "code",
   "execution_count": null,
   "metadata": {},
   "outputs": [],
   "source": [
    "data[0].edge_index"
   ]
  },
  {
   "cell_type": "markdown",
   "metadata": {},
   "source": [
    "# Train with NNConv layer"
   ]
  },
  {
   "cell_type": "code",
   "execution_count": null,
   "metadata": {},
   "outputs": [],
   "source": [
    "from functions.modules import MLP, NNConv"
   ]
  },
  {
   "cell_type": "code",
   "execution_count": null,
   "metadata": {},
   "outputs": [],
   "source": [
    "in_channels = data.seq_len*data.n_dim*data.n_joints\n",
    "out_channels = 10 # latent dimension\n",
    "model = NNConv(in_channels=in_channels, \n",
    "               out_channels=out_channels, \n",
    "               nn=MLP(\n",
    "                   data[0].num_edge_features,\n",
    "#                    data.seq_len*data[0].num_edge_features, \n",
    "                   100, in_channels*out_channels))"
   ]
  },
  {
   "cell_type": "code",
   "execution_count": null,
   "metadata": {},
   "outputs": [],
   "source": [
    "device = torch.device('cuda' if torch.cuda.is_available() else 'cpu')\n",
    "model = model.to(device)\n",
    "optimizer = torch.optim.Adam(model.parameters(), lr=0.01, weight_decay=5e-4)"
   ]
  },
  {
   "cell_type": "code",
   "execution_count": null,
   "metadata": {},
   "outputs": [],
   "source": [
    "def train():\n",
    "    losses = []\n",
    "    model.train()\n",
    "    for batch in dataloader:\n",
    "        batch = batch.to(device)\n",
    "        optimizer.zero_grad()\n",
    "        output = model(batch.x, batch.edge_index, batch.edge_attr)\n",
    "        loss = F.nll_loss(output, batch.y)\n",
    "        loss.backward()\n",
    "        optimizer.step()\n",
    "        losses.append(loss.item())\n",
    "    return losses"
   ]
  },
  {
   "cell_type": "code",
   "execution_count": null,
   "metadata": {},
   "outputs": [],
   "source": [
    "for epoch in range(10):\n",
    "    train()"
   ]
  },
  {
   "cell_type": "code",
   "execution_count": null,
   "metadata": {},
   "outputs": [],
   "source": [
    "14455/49"
   ]
  },
  {
   "cell_type": "markdown",
   "metadata": {},
   "source": [
    "# Scratch work"
   ]
  },
  {
   "cell_type": "code",
   "execution_count": null,
   "metadata": {},
   "outputs": [],
   "source": [
    "# class MLPEncoder(MessagePassing):\n",
    "#     def __init__(self, n_timesteps, n_joints, n_dim, hidden_dim, latent_dim, edge_features):\n",
    "#         super(MLPEncoder, self).__init__(aggr='add')\n",
    "#         self.mlp = MLP(n_joints*n_dim, hidden_dim, latent_dim)\n",
    "\n",
    "#     def forward(self, x, edge_index):\n",
    "#         # x has shape [n_timesteps, n_joints*n_dim]\n",
    "#         # edge_index has shape [2, edge_features=1]\n",
    "#         return self.propagate(edge_index, size=(x.size(0), x.size(0)), x=x)\n",
    "\n",
    "#     def message(self, x_i, x_j):\n",
    "#         # x_i has shape [edge_features, n_joints*n_dim]\n",
    "#         # x_j has shape [edge_features, n_joints*n_dim]\n",
    "#         tmp = torch.cat([x_i, x_j - x_i], dim=1)  # tmp has shape [edge_features=1, 2*n_joints*n_dim]\n",
    "#         return self.mlp(tmp)\n",
    "\n",
    "#     def update(self, aggr_out):\n",
    "#         # aggr_out has shape [n_timesteps, latent_dim]\n",
    "#         return aggr_out"
   ]
  },
  {
   "cell_type": "code",
   "execution_count": null,
   "metadata": {},
   "outputs": [],
   "source": [
    "# device = torch.device('cuda' if torch.cuda.is_available() else 'cpu')\n",
    "# model = MLPEncoder(n_timesteps = 49, \n",
    "#                    n_joints=53, \n",
    "#                    n_dim=3, \n",
    "#                    hidden_dim=32, \n",
    "#                    latent_dim=16, \n",
    "#                    edge_features=1).to(device)\n",
    "# optimizer = torch.optim.Adam(model.parameters(), lr=0.01, weight_decay=5e-4)"
   ]
  },
  {
   "cell_type": "code",
   "execution_count": null,
   "metadata": {},
   "outputs": [],
   "source": [
    "# losses = []\n",
    "# model.train()\n",
    "# for epoch in tqdm(range(200)):\n",
    "#     optimizer.zero_grad()\n",
    "#     out = model(data)\n",
    "#     loss = F.nll_loss(out[data.train_mask], data.y[data.train_mask])\n",
    "#     losses.append(loss.item())\n",
    "#     loss.backward()\n",
    "#     optimizer.step()"
   ]
  },
  {
   "cell_type": "code",
   "execution_count": null,
   "metadata": {},
   "outputs": [],
   "source": [
    "# import torch\n",
    "# from torch.nn import Sequential as Seq, Linear, ReLU\n",
    "# from torch_geometric.nn import MessagePassing\n",
    "\n",
    "# class MLP_Encoder(nn.Module):\n",
    "    \n",
    "#     def __init__(self, in_dim_channel, out_dim_channel, hidden_dim):\n",
    "#         super(MLP_Encoder, self).__init__()\n",
    "        \n",
    "# #         self.mlp1 = MLP(in_dim, hidden_dim, out_dim)\n",
    "#         self.pass_mlp = MLP(in_dim, hidden_dim, out_dim)\n",
    "#         self.pass1 = NNConv(in_dim_channel, out_dim_channel, self.pass_mlp)\n",
    "# #         self.mlp2 = MLP(in_dim, hidden_dim, out_dim)\n",
    "    \n",
    "#     def forward(self, inputs : Data):\n",
    "#         x = self.pass1(inputs.x, inputs.edge_index, inputs.edge_attr)\n",
    "#         node_features = self.mlp2(inputs.x)\n",
    "#         return x"
   ]
  },
  {
   "cell_type": "code",
   "execution_count": null,
   "metadata": {},
   "outputs": [],
   "source": []
  }
 ],
 "metadata": {
  "kernelspec": {
   "display_name": "Python 3",
   "language": "python",
   "name": "python3"
  },
  "language_info": {
   "codemirror_mode": {
    "name": "ipython",
    "version": 3
   },
   "file_extension": ".py",
   "mimetype": "text/x-python",
   "name": "python",
   "nbconvert_exporter": "python",
   "pygments_lexer": "ipython3",
   "version": "3.6.5"
  }
 },
 "nbformat": 4,
 "nbformat_minor": 4
}
