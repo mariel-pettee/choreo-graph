{
 "cells": [
  {
   "cell_type": "code",
   "execution_count": null,
   "metadata": {},
   "outputs": [],
   "source": [
    "%reload_ext autoreload\n",
    "%autoreload 2\n",
    "%matplotlib inline"
   ]
  },
  {
   "cell_type": "code",
   "execution_count": null,
   "metadata": {},
   "outputs": [],
   "source": [
    "import torch\n",
    "from torch.utils.data import Dataset\n",
    "from torch.utils.data.dataset import TensorDataset\n",
    "from torch_geometric.data import DataLoader\n",
    "from torch_geometric.data import Data\n",
    "from torch_geometric.utils.convert import to_networkx\n",
    "import torch.nn as nn\n",
    "\n",
    "import networkx as nx # for visualizing graphs\n",
    "import numpy as np\n",
    "import pandas as pd\n",
    "import matplotlib.pyplot as plt\n",
    "from tqdm import tqdm\n",
    "\n",
    "from functions.load_data import MarielDataset, edges"
   ]
  },
  {
   "cell_type": "markdown",
   "metadata": {},
   "source": [
    "##### Encoder Procedure\n",
    "1. Create an embedding of the node features (H) using an MLP\n",
    "2. Create a message to pass through the edges of the graph using the embedded node features (H) and another MLP\n",
    "3. Aggregate the messages created in Step 2 for each node to update node features\n",
    "4. Pass the updated node features through another MLP to get the \"Pre-posterior\"; the posterior then becomes the softmax of the pre-posterior"
   ]
  },
  {
   "cell_type": "markdown",
   "metadata": {},
   "source": [
    "# Load data"
   ]
  },
  {
   "cell_type": "code",
   "execution_count": null,
   "metadata": {},
   "outputs": [],
   "source": [
    "batch_size = 32\n",
    "data = MarielDataset(seq_len=4, reduced_joints=True)\n",
    "dataloader = DataLoader(data, batch_size=batch_size, shuffle=False)\n",
    "print(\"\\nGenerated {:,} sequences of shape: {}\".format(len(data), data[0]))"
   ]
  },
  {
   "cell_type": "code",
   "execution_count": null,
   "metadata": {},
   "outputs": [],
   "source": [
    "# for batch in dataloader:\n",
    "#     print(\"Mean: {:.5f} & Std: {:.5f}\".format(torch.mean(batch.x), torch.std(batch.x)))\n",
    "#     print(batch.x)"
   ]
  },
  {
   "cell_type": "markdown",
   "metadata": {},
   "source": [
    "# Define model & train"
   ]
  },
  {
   "cell_type": "code",
   "execution_count": null,
   "metadata": {},
   "outputs": [],
   "source": [
    "from functions.modules import MLPEncoder, RNNDecoder\n",
    "from torch.distributions.multivariate_normal import MultivariateNormal\n",
    "import torch.nn.functional as F\n",
    "\n",
    "node_features = data.seq_len*data.n_dim\n",
    "edge_features = data[0].num_edge_features\n",
    "hidden_size = 5\n",
    "node_embedding_dim = 2\n",
    "edge_embedding_dim = 3\n",
    "\n",
    "encoder = MLPEncoder(node_features=node_features, \n",
    "                   edge_features=edge_features, \n",
    "                   hidden_size=hidden_size, \n",
    "                   node_embedding_dim=node_embedding_dim,\n",
    "                   edge_embedding_dim=edge_embedding_dim)\n",
    "\n",
    "decoder = RNNDecoder(input_size=node_embedding_dim, \n",
    "                    hidden_size=hidden_size, \n",
    "                    output_size=node_features,\n",
    "                    edge_embedding_dim=edge_embedding_dim,\n",
    "                    )\n",
    "\n",
    "device = torch.device('cuda' if torch.cuda.is_available() else 'cpu')\n",
    "print(\"Using {}\".format(device))\n",
    "\n",
    "encoder = encoder.to(device)\n",
    "decoder = decoder.to(device)\n",
    "\n",
    "print(encoder)\n",
    "print(decoder)"
   ]
  },
  {
   "cell_type": "code",
   "execution_count": null,
   "metadata": {},
   "outputs": [],
   "source": [
    "optimizer = torch.optim.Adam(list(encoder.parameters()) + list(decoder.parameters()), lr=0.01, weight_decay=5e-4)\n",
    "loss_func = nn.MSELoss()\n",
    "\n",
    "# dummy_matrix = torch.tensor(np.random.rand(batch_size*data[0].num_nodes,node_features), dtype=torch.float)\n",
    "# dummy_matrix = dummy_matrix.to(device)\n",
    "\n",
    "def train(num_epochs):\n",
    "    losses = []\n",
    "    encoder.train()\n",
    "    decoder.train()\n",
    "    \n",
    "    for epoch in range(num_epochs):\n",
    "        for batch in dataloader:\n",
    "            batch = batch.to(device)\n",
    "            optimizer.zero_grad()\n",
    "\n",
    "            ### ENCODER\n",
    "            node_embedding, edge_index, edge_embedding = encoder(batch)\n",
    "            if torch.isnan(encoder.node_embedding[0].weight).any(): print(\"NaNs detected in the node embedding weights!\")\n",
    "\n",
    "            ### SAMPLING\n",
    "            ### What dimensionality should this multivariate Gaussian be? 1 distribution per edge embedding dim?\n",
    "            distribution = MultivariateNormal(edge_embedding.mean(dim=0).cpu(), torch.eye(edge_embedding_dim)) # mean & covariance matrix\n",
    "            a = distribution.sample()\n",
    "            a_soft = F.softmax(a, dim=-1).to(device) # is dim=-1 necessary if I have dim=0 above?\n",
    "\n",
    "            ### DECODER\n",
    "            output = decoder(node_embedding, edge_index, edge_embedding, a_soft)\n",
    "\n",
    "            ### CALCULATE LOSS\n",
    "            loss = loss_func(output, batch.x.to(device))\n",
    "            print(\"Loss: {}\".format(loss.item()))\n",
    "            loss.backward()\n",
    "            optimizer.step()\n",
    "            losses.append(loss.item())\n",
    "#             break\n",
    "    return losses"
   ]
  },
  {
   "cell_type": "code",
   "execution_count": null,
   "metadata": {},
   "outputs": [],
   "source": [
    "losses = train(num_epochs=5)"
   ]
  },
  {
   "cell_type": "code",
   "execution_count": null,
   "metadata": {},
   "outputs": [],
   "source": [
    "fig, ax = plt.subplots(figsize=(8,6))\n",
    "ax.plot(np.arange(len(losses)), losses)\n",
    "ax.set_xlabel(\"Epoch\", fontsize=16)\n",
    "ax.set_ylabel(\"Loss\", fontsize=16)"
   ]
  },
  {
   "cell_type": "markdown",
   "metadata": {},
   "source": [
    "Still missing: \n",
    "- How do we use edge_embedding in the decoder? (Edge weight?)\n",
    "- Gumbel softmax\n",
    "- NLL Loss vs MSE Loss\n",
    "- NaNs in the node embedding layer with higher-dim inputs?"
   ]
  },
  {
   "cell_type": "code",
   "execution_count": null,
   "metadata": {},
   "outputs": [],
   "source": []
  }
 ],
 "metadata": {
  "kernelspec": {
   "display_name": "Python 3",
   "language": "python",
   "name": "python3"
  },
  "language_info": {
   "codemirror_mode": {
    "name": "ipython",
    "version": 3
   },
   "file_extension": ".py",
   "mimetype": "text/x-python",
   "name": "python",
   "nbconvert_exporter": "python",
   "pygments_lexer": "ipython3",
   "version": "3.6.5"
  }
 },
 "nbformat": 4,
 "nbformat_minor": 4
}
