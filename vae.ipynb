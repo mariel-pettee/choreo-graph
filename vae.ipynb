{
 "cells": [
  {
   "cell_type": "code",
   "execution_count": null,
   "metadata": {},
   "outputs": [],
   "source": [
    "%reload_ext autoreload\n",
    "%autoreload 2\n",
    "%matplotlib inline"
   ]
  },
  {
   "cell_type": "code",
   "execution_count": null,
   "metadata": {},
   "outputs": [],
   "source": [
    "import torch\n",
    "from torch.utils.data import Dataset\n",
    "from torch.utils.data.dataset import TensorDataset\n",
    "from torch.distributions.multivariate_normal import MultivariateNormal\n",
    "import torch.nn.functional as F\n",
    "from torch_geometric.data import DataLoader\n",
    "from torch_geometric.data import Data\n",
    "from torch_geometric.utils.convert import to_networkx\n",
    "\n",
    "import networkx as nx # for visualizing graphs\n",
    "import numpy as np\n",
    "import pandas as pd\n",
    "import matplotlib.pyplot as plt\n",
    "from tqdm import tqdm\n",
    "import pdb\n",
    "\n",
    "from functions.load_data import MarielDataset, edges\n",
    "from functions.functions import *\n",
    "from functions.modules import *"
   ]
  },
  {
   "cell_type": "markdown",
   "metadata": {},
   "source": [
    "##### Encoder Procedure\n",
    "1. Create an embedding of the node features (H) using an MLP\n",
    "2. Create a message to pass through the edges of the graph using the embedded node features (H) and another MLP\n",
    "3. Aggregate the messages created in Step 2 for each node to update node features\n",
    "4. Pass the updated node features through another MLP to get the \"Pre-posterior\"; the posterior then becomes the softmax of the pre-posterior"
   ]
  },
  {
   "cell_type": "markdown",
   "metadata": {},
   "source": [
    "# Load data"
   ]
  },
  {
   "cell_type": "code",
   "execution_count": null,
   "metadata": {},
   "outputs": [],
   "source": [
    "batch_size = 32\n",
    "seq_len = 50\n",
    "data = MarielDataset(seq_len=seq_len, reduced_joints=False)\n",
    "dataloader = DataLoader(data, batch_size=batch_size, shuffle=False)\n",
    "print(\"\\nGenerated {:,} batches of shape: {}\".format(len(dataloader), data[0]))"
   ]
  },
  {
   "cell_type": "markdown",
   "metadata": {},
   "source": [
    "# Define model & train"
   ]
  },
  {
   "cell_type": "code",
   "execution_count": null,
   "metadata": {},
   "outputs": [],
   "source": [
    "node_features = data.seq_len*data.n_dim\n",
    "edge_features = data[0].num_edge_features\n",
    "node_embedding_dim = 5\n",
    "hidden_size = 5\n",
    "edge_embedding_dim = 10\n",
    "num_layers = 10\n",
    "num_edge_types = 4\n",
    "\n",
    "encoder = MLPEncoder(node_features=node_features, \n",
    "                    edge_features=edge_features, \n",
    "                    hidden_size=hidden_size, \n",
    "                    node_embedding_dim=node_embedding_dim,\n",
    "                    edge_embedding_dim=edge_embedding_dim\n",
    "                    )\n",
    "\n",
    "decoder = RNNDecoder(input_size=node_embedding_dim, \n",
    "                    output_size=node_features,\n",
    "                    edge_embedding_dim=edge_embedding_dim,\n",
    "                    edge_features=edge_features,\n",
    "                    num_layers=num_layers\n",
    "                    )\n",
    "\n",
    "device = torch.device('cuda' if torch.cuda.is_available() else 'cpu')\n",
    "print(\"Using {}\".format(device))\n",
    "\n",
    "encoder = encoder.to(device)\n",
    "decoder = decoder.to(device)\n",
    "\n",
    "print(encoder)\n",
    "print(decoder)"
   ]
  },
  {
   "cell_type": "code",
   "execution_count": null,
   "metadata": {},
   "outputs": [],
   "source": [
    "optimizer = torch.optim.Adam(list(encoder.parameters()) + list(decoder.parameters()), lr=0.01, weight_decay=5e-4)\n",
    "loss_func = torch.nn.MSELoss(reduction='mean')\n",
    "sigma = 0.001 # how to pick sigma?\n",
    "\n",
    "def train(num_epochs):\n",
    "    losses = []\n",
    "    encoder.train()\n",
    "    decoder.train()\n",
    "    \n",
    "    for epoch in tqdm(range(num_epochs)):\n",
    "        loss = 0\n",
    "        i = 0\n",
    "        for batch in dataloader:\n",
    "            batch = batch.to(device)\n",
    "            optimizer.zero_grad() # reset the gradients to zero\n",
    "\n",
    "            ### ENCODER\n",
    "            node_embedding, edge_index, edge_embedding, log_probabilities = encoder(batch) # dim=0 or dim=1 for probability?\n",
    "                \n",
    "            ### SAMPLING\n",
    "            z = torch.nn.functional.gumbel_softmax(log_probabilities, tau=0.5)\n",
    "            \n",
    "            ### DECODER\n",
    "            output = decoder(node_embedding, edge_index, edge_embedding, z)\n",
    "\n",
    "            ### CALCULATE LOSS\n",
    "            mse_loss = loss_func(batch.x.to(device), output)\n",
    "            print(\"===== Batch {} =====\".format(i))\n",
    "            print(\"Minimum prediction: {:.2f} & maximum prediction: {:.2f}\".format(torch.min(output).item(),torch.max(output).item()))\n",
    "            my_nll_loss = gaussian_neg_log_likelihood(target=batch.x, mu=output, sigma=sigma)\n",
    "            nll_loss = nll_gaussian(preds=output, target=batch.x.to(device), variance=5e-5)\n",
    "            kl_loss = kl_categorical_uniform(torch.exp(log_probabilities), data[0].num_nodes, num_edge_types, add_const=True)\n",
    "            batch_loss = mse_loss + kl_loss \n",
    "            print(\"MSE Loss: {:.5f} | My NLL Loss: {:.5f} | NLL Loss: {:.5f} | KL Loss: {:.5f}\".format(mse_loss.item(), my_nll_loss, nll_loss, kl_loss))\n",
    "            batch_loss.backward()\n",
    "            optimizer.step()\n",
    "            loss += batch_loss.item()\n",
    "            i += 1\n",
    "            if i > 5: # temporary -- for stopping training early\n",
    "                break\n",
    "        loss = loss / i # calculate average loss over the batches -- use len(dataloader) when running over all batches\n",
    "        losses.append(loss.item())\n",
    "        print(\"epoch : {}/{}, loss = {:.6f}\".format(epoch, num_epochs, loss))\n",
    "    return losses"
   ]
  },
  {
   "cell_type": "code",
   "execution_count": null,
   "metadata": {},
   "outputs": [],
   "source": [
    "losses = train(num_epochs=5)"
   ]
  },
  {
   "cell_type": "code",
   "execution_count": null,
   "metadata": {},
   "outputs": [],
   "source": [
    "fig, ax = plt.subplots(figsize=(8,6))\n",
    "ax.plot(np.arange(len(losses)), losses)\n",
    "ax.set_xlabel(\"Epoch\", fontsize=16)\n",
    "ax.set_ylabel(\"Loss\", fontsize=16)"
   ]
  },
  {
   "cell_type": "markdown",
   "metadata": {},
   "source": [
    "### Still missing: \n",
    "- How do we use edge_embedding in the decoder? (Edge weight?)"
   ]
  },
  {
   "cell_type": "code",
   "execution_count": null,
   "metadata": {},
   "outputs": [],
   "source": []
  }
 ],
 "metadata": {
  "kernelspec": {
   "display_name": "Python 3",
   "language": "python",
   "name": "python3"
  },
  "language_info": {
   "codemirror_mode": {
    "name": "ipython",
    "version": 3
   },
   "file_extension": ".py",
   "mimetype": "text/x-python",
   "name": "python",
   "nbconvert_exporter": "python",
   "pygments_lexer": "ipython3",
   "version": "3.6.5"
  }
 },
 "nbformat": 4,
 "nbformat_minor": 4
}
