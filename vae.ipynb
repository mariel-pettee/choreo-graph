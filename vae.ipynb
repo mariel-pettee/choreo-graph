{
 "cells": [
  {
   "cell_type": "code",
   "execution_count": 119,
   "metadata": {},
   "outputs": [],
   "source": [
    "%reload_ext autoreload\n",
    "%autoreload 2\n",
    "%matplotlib inline"
   ]
  },
  {
   "cell_type": "code",
   "execution_count": 120,
   "metadata": {},
   "outputs": [],
   "source": [
    "import torch\n",
    "from torch.utils.data import Dataset\n",
    "from torch.utils.data.dataset import TensorDataset\n",
    "from torch_geometric.data import DataLoader\n",
    "from torch_geometric.data import Data\n",
    "from torch_geometric.utils.convert import to_networkx\n",
    "import torch.nn as nn\n",
    "\n",
    "import networkx as nx # for visualizing graphs\n",
    "import numpy as np\n",
    "import pandas as pd\n",
    "import matplotlib.pyplot as plt\n",
    "from tqdm import tqdm\n",
    "\n",
    "from functions.load_data import MarielDataset, edges"
   ]
  },
  {
   "cell_type": "markdown",
   "metadata": {},
   "source": [
    "##### Encoder Procedure\n",
    "1. Create an embedding of the node features (H) using an MLP\n",
    "2. Create a message to pass through the edges of the graph using the embedded node features (H) and another MLP\n",
    "3. Aggregate the messages created in Step 2 for each node to update node features\n",
    "4. Pass the updated node features through another MLP to get the \"Pre-posterior\"; the posterior then becomes the softmax of the pre-posterior"
   ]
  },
  {
   "cell_type": "markdown",
   "metadata": {},
   "source": [
    "# Load data"
   ]
  },
  {
   "cell_type": "code",
   "execution_count": 121,
   "metadata": {},
   "outputs": [
    {
     "name": "stdout",
     "output_type": "stream",
     "text": [
      "Original numpy dataset contains 38,309 timesteps of 53 joints with 3 dimensions each.\n",
      "\n",
      "Generating overlapping sequences...\n",
      "Using (x,y)-centering...\n",
      "Reducing joints...\n",
      "\n",
      "Generated 38,305 sequences of shape: Data(edge_attr=[648, 4], edge_index=[2, 648], x=[18, 12], y=[18, 12])\n"
     ]
    }
   ],
   "source": [
    "batch_size = 1\n",
    "data = MarielDataset(seq_len=4, reduced_joints=True)\n",
    "dataloader = DataLoader(data, batch_size=batch_size, shuffle=False)\n",
    "print(\"\\nGenerated {:,} sequences of shape: {}\".format(len(data), data[0]))"
   ]
  },
  {
   "cell_type": "code",
   "execution_count": 122,
   "metadata": {},
   "outputs": [],
   "source": [
    "# for batch in dataloader:\n",
    "#     print(\"Mean: {:.5f} & Std: {:.5f}\".format(torch.mean(batch.x), torch.std(batch.x)))\n",
    "#     print(batch.x)"
   ]
  },
  {
   "cell_type": "markdown",
   "metadata": {},
   "source": [
    "# Define model & train"
   ]
  },
  {
   "cell_type": "code",
   "execution_count": 160,
   "metadata": {},
   "outputs": [
    {
     "name": "stdout",
     "output_type": "stream",
     "text": [
      "Using cuda\n",
      "MLPEncoder(\n",
      "  (node_embedding): Sequential(\n",
      "    (0): Linear(in_features=12, out_features=2, bias=True)\n",
      "    (1): ReLU()\n",
      "  )\n",
      "  (MLP): Sequential(\n",
      "    (0): Linear(in_features=4, out_features=5, bias=True)\n",
      "    (1): ReLU()\n",
      "    (2): Linear(in_features=5, out_features=8, bias=True)\n",
      "  )\n",
      "  (graph_conv_1): MLPGraphConv(2, 2)\n",
      "  (graph_conv_2): MLPGraphConv(2, 2)\n",
      "  (graph_conv_list): ModuleList(\n",
      "    (0): MLPGraphConv(2, 2)\n",
      "    (1): MLPGraphConv(2, 2)\n",
      "  )\n",
      ")\n",
      "RNNDecoder(\n",
      "  (node_embedding): Sequential(\n",
      "    (0): Linear(in_features=2, out_features=12, bias=True)\n",
      "    (1): ReLU()\n",
      "  )\n",
      "  (edge_embedding): Sequential(\n",
      "    (0): Linear(in_features=4, out_features=3, bias=True)\n",
      "    (1): ReLU()\n",
      "  )\n",
      "  (graph_conv_1): GatedGraphConv(12, num_layers=2)\n",
      "  (graph_conv_2): GatedGraphConv(12, num_layers=2)\n",
      "  (graph_conv_list): ModuleList(\n",
      "    (0): GatedGraphConv(12, num_layers=2)\n",
      "    (1): GatedGraphConv(12, num_layers=2)\n",
      "  )\n",
      ")\n"
     ]
    }
   ],
   "source": [
    "from functions.modules import MLPEncoder, RNNDecoder\n",
    "from torch.distributions.multivariate_normal import MultivariateNormal\n",
    "import torch.nn.functional as F\n",
    "\n",
    "node_features = data.seq_len*data.n_dim\n",
    "edge_features = data[0].num_edge_features\n",
    "hidden_size = 5\n",
    "node_embedding_dim = 2\n",
    "edge_embedding_dim = 3\n",
    "\n",
    "encoder = MLPEncoder(node_features=node_features, \n",
    "                   edge_features=edge_features, \n",
    "                   hidden_size=hidden_size, \n",
    "                   node_embedding_dim=node_embedding_dim)\n",
    "\n",
    "decoder = RNNDecoder(input_size=node_embedding_dim, \n",
    "                    hidden_size=hidden_size, \n",
    "                    output_size=node_features,\n",
    "                    edge_features=edge_features,\n",
    "                    edge_embedding_dim=edge_embedding_dim,\n",
    "                    )\n",
    "\n",
    "device = torch.device('cuda' if torch.cuda.is_available() else 'cpu')\n",
    "print(\"Using {}\".format(device))\n",
    "\n",
    "encoder = encoder.to(device)\n",
    "decoder = decoder.to(device)\n",
    "\n",
    "print(encoder)\n",
    "print(decoder)"
   ]
  },
  {
   "cell_type": "code",
   "execution_count": 161,
   "metadata": {},
   "outputs": [],
   "source": [
    "optimizer = torch.optim.Adam(model.parameters(), lr=0.01, weight_decay=5e-4)\n",
    "loss_func = nn.MSELoss()\n",
    "# loss_func = nn.L1Loss()\n",
    "dummy_matrix = torch.tensor(np.random.rand(batch_size*data[0].num_nodes,node_embedding_dim), dtype=torch.float)\n",
    "# dummy_matrix = torch.tensor(np.ones((batch_size*data[0].num_nodes,node_embedding_dim)), dtype=torch.float)\n",
    "dummy_matrix = dummy_matrix.to(device)\n",
    "\n",
    "def train():\n",
    "    losses = []\n",
    "    model.train()\n",
    "    for batch in dataloader:\n",
    "        batch = batch.to(device)\n",
    "        optimizer.zero_grad()\n",
    "        output, edge_index, edge_attr = encoder(batch)\n",
    "#         print(\"Are any weights NaNs? {}\".format(torch.isnan(model.node_embedding[0].weight).any())) # are any of the node embedding weights NaNs?\n",
    "        distribution = MultivariateNormal(edge_attr.mean(dim=1).cpu()[:edge_embedding_dim], torch.eye(edge_embedding_dim))\n",
    "        a = distribution.sample()\n",
    "        a_soft = F.softmax(a, dim=-1).to(device)\n",
    "        decoder(output, edge_index, edge_attr, a_soft)\n",
    "#         print(\"Slice of output: {}\".format(output[0,:5]))\n",
    "        loss = loss_func(output, dummy_matrix) # would normally use batch.y here for the full AE\n",
    "        print(\"Loss: {}\".format(loss.item()))\n",
    "        loss.backward()\n",
    "        optimizer.step()\n",
    "        losses.append(loss.item())\n",
    "#         break\n",
    "    return losses"
   ]
  },
  {
   "cell_type": "code",
   "execution_count": 162,
   "metadata": {},
   "outputs": [
    {
     "name": "stderr",
     "output_type": "stream",
     "text": [
      "/workdisk/choreo-graph/functions/modules.py:117: UserWarning: To copy construct from a tensor, it is recommended to use sourceTensor.clone().detach() or sourceTensor.clone().detach().requires_grad_(True), rather than torch.tensor(sourceTensor).\n",
      "  def message(self, x_i, x_j, pseudo):\n"
     ]
    },
    {
     "name": "stdout",
     "output_type": "stream",
     "text": [
      "Loss: 127.16078186035156\n",
      "Loss: 125.07447814941406\n",
      "Loss: 122.41666412353516\n",
      "Loss: 120.989990234375\n",
      "Loss: 118.71804809570312\n",
      "Loss: 117.9212417602539\n",
      "Loss: 117.67632293701172\n",
      "Loss: 118.1209487915039\n",
      "Loss: 119.21983337402344\n",
      "Loss: 119.12320709228516\n",
      "Loss: 118.07303619384766\n"
     ]
    },
    {
     "ename": "KeyboardInterrupt",
     "evalue": "",
     "output_type": "error",
     "traceback": [
      "\u001b[0;31m---------------------------------------------------------------------------\u001b[0m",
      "\u001b[0;31mKeyboardInterrupt\u001b[0m                         Traceback (most recent call last)",
      "\u001b[0;32m<ipython-input-162-0f75a852a00d>\u001b[0m in \u001b[0;36m<module>\u001b[0;34m\u001b[0m\n\u001b[1;32m      1\u001b[0m \u001b[0;32mfor\u001b[0m \u001b[0mepoch\u001b[0m \u001b[0;32min\u001b[0m \u001b[0mrange\u001b[0m\u001b[0;34m(\u001b[0m\u001b[0;36m5\u001b[0m\u001b[0;34m)\u001b[0m\u001b[0;34m:\u001b[0m\u001b[0;34m\u001b[0m\u001b[0m\n\u001b[0;32m----> 2\u001b[0;31m     \u001b[0mtrain\u001b[0m\u001b[0;34m(\u001b[0m\u001b[0;34m)\u001b[0m\u001b[0;34m\u001b[0m\u001b[0m\n\u001b[0m",
      "\u001b[0;32m<ipython-input-161-d5b9ab6a8f7f>\u001b[0m in \u001b[0;36mtrain\u001b[0;34m()\u001b[0m\n\u001b[1;32m     21\u001b[0m         \u001b[0mloss\u001b[0m \u001b[0;34m=\u001b[0m \u001b[0mloss_func\u001b[0m\u001b[0;34m(\u001b[0m\u001b[0moutput\u001b[0m\u001b[0;34m,\u001b[0m \u001b[0mdummy_matrix\u001b[0m\u001b[0;34m)\u001b[0m \u001b[0;31m# would normally use batch.y here for the full AE\u001b[0m\u001b[0;34m\u001b[0m\u001b[0m\n\u001b[1;32m     22\u001b[0m         \u001b[0mprint\u001b[0m\u001b[0;34m(\u001b[0m\u001b[0;34m\"Loss: {}\"\u001b[0m\u001b[0;34m.\u001b[0m\u001b[0mformat\u001b[0m\u001b[0;34m(\u001b[0m\u001b[0mloss\u001b[0m\u001b[0;34m.\u001b[0m\u001b[0mitem\u001b[0m\u001b[0;34m(\u001b[0m\u001b[0;34m)\u001b[0m\u001b[0;34m)\u001b[0m\u001b[0;34m)\u001b[0m\u001b[0;34m\u001b[0m\u001b[0m\n\u001b[0;32m---> 23\u001b[0;31m         \u001b[0mloss\u001b[0m\u001b[0;34m.\u001b[0m\u001b[0mbackward\u001b[0m\u001b[0;34m(\u001b[0m\u001b[0;34m)\u001b[0m\u001b[0;34m\u001b[0m\u001b[0m\n\u001b[0m\u001b[1;32m     24\u001b[0m         \u001b[0moptimizer\u001b[0m\u001b[0;34m.\u001b[0m\u001b[0mstep\u001b[0m\u001b[0;34m(\u001b[0m\u001b[0;34m)\u001b[0m\u001b[0;34m\u001b[0m\u001b[0m\n\u001b[1;32m     25\u001b[0m         \u001b[0mlosses\u001b[0m\u001b[0;34m.\u001b[0m\u001b[0mappend\u001b[0m\u001b[0;34m(\u001b[0m\u001b[0mloss\u001b[0m\u001b[0;34m.\u001b[0m\u001b[0mitem\u001b[0m\u001b[0;34m(\u001b[0m\u001b[0;34m)\u001b[0m\u001b[0;34m)\u001b[0m\u001b[0;34m\u001b[0m\u001b[0m\n",
      "\u001b[0;32m/home/user/miniconda/envs/py36/lib/python3.6/site-packages/torch/tensor.py\u001b[0m in \u001b[0;36mbackward\u001b[0;34m(self, gradient, retain_graph, create_graph)\u001b[0m\n\u001b[1;32m    193\u001b[0m                 \u001b[0mproducts\u001b[0m\u001b[0;34m.\u001b[0m \u001b[0mDefaults\u001b[0m \u001b[0mto\u001b[0m\u001b[0;31m \u001b[0m\u001b[0;31m`\u001b[0m\u001b[0;31m`\u001b[0m\u001b[0;32mFalse\u001b[0m\u001b[0;31m`\u001b[0m\u001b[0;31m`\u001b[0m\u001b[0;34m.\u001b[0m\u001b[0;34m\u001b[0m\u001b[0m\n\u001b[1;32m    194\u001b[0m         \"\"\"\n\u001b[0;32m--> 195\u001b[0;31m         \u001b[0mtorch\u001b[0m\u001b[0;34m.\u001b[0m\u001b[0mautograd\u001b[0m\u001b[0;34m.\u001b[0m\u001b[0mbackward\u001b[0m\u001b[0;34m(\u001b[0m\u001b[0mself\u001b[0m\u001b[0;34m,\u001b[0m \u001b[0mgradient\u001b[0m\u001b[0;34m,\u001b[0m \u001b[0mretain_graph\u001b[0m\u001b[0;34m,\u001b[0m \u001b[0mcreate_graph\u001b[0m\u001b[0;34m)\u001b[0m\u001b[0;34m\u001b[0m\u001b[0m\n\u001b[0m\u001b[1;32m    196\u001b[0m \u001b[0;34m\u001b[0m\u001b[0m\n\u001b[1;32m    197\u001b[0m     \u001b[0;32mdef\u001b[0m \u001b[0mregister_hook\u001b[0m\u001b[0;34m(\u001b[0m\u001b[0mself\u001b[0m\u001b[0;34m,\u001b[0m \u001b[0mhook\u001b[0m\u001b[0;34m)\u001b[0m\u001b[0;34m:\u001b[0m\u001b[0;34m\u001b[0m\u001b[0m\n",
      "\u001b[0;32m/home/user/miniconda/envs/py36/lib/python3.6/site-packages/torch/autograd/__init__.py\u001b[0m in \u001b[0;36mbackward\u001b[0;34m(tensors, grad_tensors, retain_graph, create_graph, grad_variables)\u001b[0m\n\u001b[1;32m     97\u001b[0m     Variable._execution_engine.run_backward(\n\u001b[1;32m     98\u001b[0m         \u001b[0mtensors\u001b[0m\u001b[0;34m,\u001b[0m \u001b[0mgrad_tensors\u001b[0m\u001b[0;34m,\u001b[0m \u001b[0mretain_graph\u001b[0m\u001b[0;34m,\u001b[0m \u001b[0mcreate_graph\u001b[0m\u001b[0;34m,\u001b[0m\u001b[0;34m\u001b[0m\u001b[0m\n\u001b[0;32m---> 99\u001b[0;31m         allow_unreachable=True)  # allow_unreachable flag\n\u001b[0m\u001b[1;32m    100\u001b[0m \u001b[0;34m\u001b[0m\u001b[0m\n\u001b[1;32m    101\u001b[0m \u001b[0;34m\u001b[0m\u001b[0m\n",
      "\u001b[0;31mKeyboardInterrupt\u001b[0m: "
     ]
    }
   ],
   "source": [
    "for epoch in range(5):\n",
    "    train()"
   ]
  },
  {
   "cell_type": "markdown",
   "metadata": {},
   "source": [
    "Still missing: \n",
    "- Edge embedding in encoder\n",
    "- How do we use edge_embedding in the decoder?\n",
    "- Edge weight?"
   ]
  },
  {
   "cell_type": "code",
   "execution_count": null,
   "metadata": {},
   "outputs": [],
   "source": []
  }
 ],
 "metadata": {
  "kernelspec": {
   "display_name": "Python 3",
   "language": "python",
   "name": "python3"
  },
  "language_info": {
   "codemirror_mode": {
    "name": "ipython",
    "version": 3
   },
   "file_extension": ".py",
   "mimetype": "text/x-python",
   "name": "python",
   "nbconvert_exporter": "python",
   "pygments_lexer": "ipython3",
   "version": "3.6.5"
  }
 },
 "nbformat": 4,
 "nbformat_minor": 4
}
