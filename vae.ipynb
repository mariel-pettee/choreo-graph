{
 "cells": [
  {
   "cell_type": "code",
   "execution_count": null,
   "metadata": {},
   "outputs": [],
   "source": [
    "%reload_ext autoreload\n",
    "%autoreload 2\n",
    "%matplotlib inline"
   ]
  },
  {
   "cell_type": "code",
   "execution_count": null,
   "metadata": {},
   "outputs": [],
   "source": [
    "import torch\n",
    "from torch.utils.data import Dataset\n",
    "from torch.utils.data.dataset import TensorDataset\n",
    "from torch.distributions.multivariate_normal import MultivariateNormal\n",
    "import torch.nn.functional as F\n",
    "from torch_geometric.data import DataLoader\n",
    "from torch_geometric.data import Data\n",
    "from torch_geometric.utils.convert import to_networkx\n",
    "\n",
    "import networkx as nx # for visualizing graphs\n",
    "import numpy as np\n",
    "import pandas as pd\n",
    "import matplotlib.pyplot as plt\n",
    "from tqdm import tqdm\n",
    "import pdb\n",
    "\n",
    "from functions.load_data import MarielDataset, edges\n",
    "from functions.functions import *\n",
    "from functions.modules import *"
   ]
  },
  {
   "cell_type": "markdown",
   "metadata": {},
   "source": [
    "# Load data"
   ]
  },
  {
   "cell_type": "code",
   "execution_count": null,
   "metadata": {},
   "outputs": [],
   "source": [
    "batch_size = 32\n",
    "seq_len = 50\n",
    "predicted_timesteps = 10\n",
    "data = MarielDataset(seq_len=seq_len, reduced_joints=True, predicted_timesteps=predicted_timesteps)\n",
    "dataloader = DataLoader(data, batch_size=batch_size, shuffle=False)\n",
    "print(\"\\nGenerated {:,} batches of shape: {}\".format(len(dataloader), data[0]))"
   ]
  },
  {
   "cell_type": "markdown",
   "metadata": {},
   "source": [
    "# Define model & train"
   ]
  },
  {
   "cell_type": "code",
   "execution_count": null,
   "metadata": {},
   "outputs": [],
   "source": [
    "node_features = data.seq_len*data.n_dim\n",
    "edge_features = data[0].num_edge_features\n",
    "node_embedding_dim = 25\n",
    "hidden_size = 25\n",
    "edge_embedding_dim = 10\n",
    "num_layers = 2\n",
    "num_edge_types = 2\n",
    "\n",
    "encoder = MLPEncoder(node_features=node_features, \n",
    "                    edge_features=edge_features, \n",
    "                    hidden_size=hidden_size, \n",
    "                    node_embedding_dim=node_embedding_dim,\n",
    "                    edge_embedding_dim=edge_embedding_dim\n",
    "                    )\n",
    "\n",
    "decoder = RNNDecoder(input_size=node_embedding_dim, \n",
    "                    output_size=node_features+predicted_timesteps*data.n_dim,\n",
    "                    edge_embedding_dim=edge_embedding_dim,\n",
    "                    edge_features=edge_features,\n",
    "                    num_layers=num_layers\n",
    "                    )\n",
    "\n",
    "device = torch.device('cuda' if torch.cuda.is_available() else 'cpu')\n",
    "print(\"Using {}\".format(device))\n",
    "\n",
    "encoder = encoder.to(device)\n",
    "decoder = decoder.to(device)\n",
    "\n",
    "print(encoder)\n",
    "print(decoder)"
   ]
  },
  {
   "cell_type": "code",
   "execution_count": null,
   "metadata": {},
   "outputs": [],
   "source": [
    "optimizer = torch.optim.Adam(list(encoder.parameters()) + list(decoder.parameters()), lr=0.01, weight_decay=5e-4)\n",
    "mse_loss = torch.nn.MSELoss(reduction='mean')\n",
    "prediction_to_reconstruction_loss_ratio = 1 # you might want to weight the prediction loss higher to help it compete with the larger prediction seq_len\n",
    "sigma = 0.001 # how to pick sigma?\n",
    "\n",
    "def train(num_epochs):\n",
    "    losses = []\n",
    "    reconstruction_losses = []\n",
    "    prediction_losses = []\n",
    "\n",
    "    encoder.train()\n",
    "    decoder.train()\n",
    "    \n",
    "    for epoch in tqdm(range(num_epochs)):\n",
    "        average_loss = 0\n",
    "        average_reconstruction_loss = 0\n",
    "        average_prediction_loss = 0\n",
    "        i = 0\n",
    "        for batch in dataloader:\n",
    "            batch = batch.to(device)\n",
    "            optimizer.zero_grad() # reset the gradients to zero\n",
    "\n",
    "            ### ENCODER\n",
    "            node_embedding, edge_index, edge_embedding, log_probabilities = encoder(batch) # dim=0 or dim=1 for probability?\n",
    "                \n",
    "            ### SAMPLING\n",
    "            z = torch.nn.functional.gumbel_softmax(log_probabilities, tau=0.5)\n",
    "            \n",
    "            ### DECODER\n",
    "            output = decoder(node_embedding, edge_index, edge_embedding, z)\n",
    "\n",
    "            ### CALCULATE LOSS\n",
    "            reconstruction_loss = mse_loss(batch.x.to(device), output[:,:node_features]) # compare first seq_len timesteps\n",
    "            prediction_loss = mse_loss(batch.y.to(device), output[:,node_features:]) # compare last part to unseen data\n",
    "#             print(\"===== Batch {} =====\".format(i))\n",
    "#             print(\"Minimum prediction: {:.2f} & maximum prediction: {:.2f}\".format(torch.min(output).item(),torch.max(output).item()))\n",
    "#             my_nll_loss = gaussian_neg_log_likelihood(x=batch.x, mu=output, sigma=sigma)\n",
    "#             nll_loss = nll_gaussian(preds=output, target=batch.x.to(device), variance=5e-5)\n",
    "#             kl_loss = kl_categorical_uniform(torch.exp(log_probabilities), data[0].num_nodes, num_edge_types, add_const=True)\n",
    "            batch_loss = reconstruction_loss + prediction_to_reconstruction_loss_ratio*prediction_loss\n",
    "            batch_loss.backward()\n",
    "            optimizer.step()\n",
    "            average_loss += batch_loss.item()\n",
    "            average_reconstruction_loss += reconstruction_loss.item()\n",
    "            average_prediction_loss += prediction_loss.item()\n",
    "            i += 1\n",
    "            if i > 50: # temporary -- for stopping training early\n",
    "                break\n",
    "        average_loss = average_loss / i # calculate average loss over the batches -- use len(dataloader) when running over all batches\n",
    "        average_reconstruction_loss = average_reconstruction_loss / i # calculate average loss over the batches -- use len(dataloader) when running over all batches\n",
    "        average_prediction_loss = average_prediction_loss / i # calculate average loss over the batches -- use len(dataloader) when running over all batches\n",
    "        losses.append(average_loss)\n",
    "        reconstruction_losses.append(average_reconstruction_loss)\n",
    "        prediction_losses.append(average_prediction_loss)\n",
    "        print(\"epoch : {}/{} | Loss = {:,.3f} | Reconstruction Loss: {:,.3f} | Prediction Loss: {:,.3f}\".format(epoch+1, num_epochs, average_loss, average_reconstruction_loss, average_prediction_loss))\n",
    "    return losses, reconstruction_losses, prediction_losses"
   ]
  },
  {
   "cell_type": "code",
   "execution_count": null,
   "metadata": {},
   "outputs": [],
   "source": [
    "losses, reconstruction_losses, prediction_losses = train(num_epochs=5)"
   ]
  },
  {
   "cell_type": "code",
   "execution_count": null,
   "metadata": {},
   "outputs": [],
   "source": [
    "fig, ax = plt.subplots(figsize=(8,6))\n",
    "ax.plot(np.arange(len(losses)), losses, label=\"Total\")\n",
    "ax.plot(np.arange(len(losses)), reconstruction_losses, label=\"Reconstruction\")\n",
    "ax.plot(np.arange(len(losses)), prediction_losses, label=\"Prediction\")\n",
    "ax.set_xlabel(\"Epoch\", fontsize=16)\n",
    "ax.set_ylabel(\"Loss\", fontsize=16)\n",
    "ax.legend(fontsize=14)"
   ]
  },
  {
   "cell_type": "markdown",
   "metadata": {},
   "source": [
    "### Up next:\n",
    "- use edge index to create discrete decoders\n",
    "- How do we use edge_embedding in the decoder? (Edge weight?)]\n",
    "- Should we do an additional edge transform in the decoder?\n",
    "\n",
    "### For later:\n",
    "- The Gaussian negative log likelihood loss functions will only make sense when the output of the decoder is mu (eq'n 16 & 17)\n",
    "\n",
    "### Done\n",
    "- ~~Predict 50 + k timesteps w/ separate MSE losses~~"
   ]
  },
  {
   "cell_type": "code",
   "execution_count": null,
   "metadata": {},
   "outputs": [],
   "source": []
  }
 ],
 "metadata": {
  "kernelspec": {
   "display_name": "Python 3",
   "language": "python",
   "name": "python3"
  },
  "language_info": {
   "codemirror_mode": {
    "name": "ipython",
    "version": 3
   },
   "file_extension": ".py",
   "mimetype": "text/x-python",
   "name": "python",
   "nbconvert_exporter": "python",
   "pygments_lexer": "ipython3",
   "version": "3.6.5"
  }
 },
 "nbformat": 4,
 "nbformat_minor": 4
}
