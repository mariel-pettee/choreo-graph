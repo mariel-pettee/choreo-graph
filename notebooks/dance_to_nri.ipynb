{
 "cells": [
  {
   "cell_type": "code",
   "execution_count": null,
   "metadata": {},
   "outputs": [],
   "source": [
    "%load_ext autoreload\n",
    "%autoreload 2\n",
    "import sys\n",
    "sys.path.append('../')\n",
    "from functions.load_data import *\n",
    "from functions.plotting import *\n",
    "from tqdm import tqdm\n",
    "import pickle"
   ]
  },
  {
   "cell_type": "code",
   "execution_count": null,
   "metadata": {},
   "outputs": [],
   "source": [
    "ds_all, ds_all_centered, datasets, datasets_centered, ds_counts = load_data(pattern=\"../data/mariel_*.npy\")"
   ]
  },
  {
   "cell_type": "code",
   "execution_count": null,
   "metadata": {},
   "outputs": [],
   "source": [
    "ds_all_centered.shape"
   ]
  },
  {
   "cell_type": "code",
   "execution_count": null,
   "metadata": {},
   "outputs": [],
   "source": [
    "ds_all_centered[:5,0,0]"
   ]
  },
  {
   "cell_type": "code",
   "execution_count": null,
   "metadata": {},
   "outputs": [],
   "source": [
    "seq_len = 10\n",
    "index_start = 0\n",
    "# index_start = np.random.randint(0,len(ds_all_centered)-seq_len)\n",
    "print(\"Seeding with frame {}\".format(index_start))\n",
    "xtest = ds_all_centered[index_start:index_start+seq_len,:,:3]\n",
    "animation = animate_stick(xtest, \n",
    "                          figsize=(10,8), \n",
    "                          cmap='inferno', \n",
    "                          cloud=False\n",
    "                         )\n",
    "HTML(animation.to_html5_video())"
   ]
  },
  {
   "cell_type": "markdown",
   "metadata": {},
   "source": [
    "# Convert to NRI format"
   ]
  },
  {
   "cell_type": "code",
   "execution_count": null,
   "metadata": {},
   "outputs": [],
   "source": [
    "print(ds_all_centered.shape)\n",
    "ds_all_centered = np.transpose(ds_all_centered, [0, 2, 1])\n",
    "print(ds_all_centered.shape)"
   ]
  },
  {
   "cell_type": "markdown",
   "metadata": {},
   "source": [
    "### Optional: create reduced-joints training set (31 joints, to match NRI)"
   ]
  },
  {
   "cell_type": "code",
   "execution_count": null,
   "metadata": {},
   "outputs": [],
   "source": [
    "# point_labels=['ARIEL','C7','CLAV','LANK','LBHD','LBSH','LBWT','LELB','LFHD',\n",
    "#           'LFRM','LFSH','LFWT','LHEL','LIEL','LIHAND','LIWR','LKNE','LKNI',\n",
    "#           'LMT1','LMT5','LOHAND','LOWR','LSHN','LTHI','LTOE','LUPA','MBWT',\n",
    "#           'MFWT','RANK','RBHD','RBSH','RBWT','RELB','RFHD','RFRM','RFSH',\n",
    "#           'RFWT','RHEL','RIEL','RIHAND','RIWR','RKNE','RKNI','RMT1','RMT5',\n",
    "#           'ROHAND','ROWR','RSHN','RTHI','RTOE','RUPA','STRN','T10']\n",
    "\n",
    "# ### Define a subset of joints if we want to train on fewer joints that still capture meaningful body movement:\n",
    "# reduced_joint_names = ['ARIEL', 'RFHD', 'LFHD', 'RBHD', 'LBHD', 'CLAV', 'C7', 'RFSH', 'LFSH', 'RIEL', 'LIEL', 'RIWR', 'LIWR','RKNE','LKNE','RTOE','LTOE','LHEL','RHEL','LANK','RANK','RKNI','LKNI','ROWR','LOWR','RELB','LELB','RFWT','LFWT','LBWT','RBWT']\n",
    "# reduced_joint_indices = [point_labels.index(joint_name) for joint_name in reduced_joint_names]\n",
    "# print(len(reduced_joint_indices))"
   ]
  },
  {
   "cell_type": "code",
   "execution_count": null,
   "metadata": {},
   "outputs": [],
   "source": [
    "# data = ds_all_centered[:,:,reduced_joint_indices]\n",
    "# print(data.shape)"
   ]
  },
  {
   "cell_type": "markdown",
   "metadata": {},
   "source": [
    "### Start with creating the train & validation sets..."
   ]
  },
  {
   "cell_type": "code",
   "execution_count": null,
   "metadata": {},
   "outputs": [],
   "source": [
    "data = ds_all_centered"
   ]
  },
  {
   "cell_type": "code",
   "execution_count": null,
   "metadata": {},
   "outputs": [],
   "source": [
    "n_simulations = 500\n",
    "seq_length = 49\n",
    "n_joints = data.shape[2]\n",
    "nodes = []\n",
    "edges = []\n",
    "\n",
    "start = 0\n",
    "for n in range(n_simulations):\n",
    "    sequence = data[start:start+seq_length]\n",
    "    nodes.append(sequence)\n",
    "    edges.append(np.ones((n_joints,n_joints))) # fully-connected\n",
    "    start += seq_length+1\n",
    "\n",
    "nodes = np.stack(nodes)\n",
    "edges = np.stack(edges)"
   ]
  },
  {
   "cell_type": "code",
   "execution_count": null,
   "metadata": {},
   "outputs": [],
   "source": [
    "print(nodes.shape)\n",
    "print(edges.shape)"
   ]
  },
  {
   "cell_type": "code",
   "execution_count": null,
   "metadata": {},
   "outputs": [],
   "source": [
    "nodes[0,:5,0,0]"
   ]
  },
  {
   "cell_type": "code",
   "execution_count": null,
   "metadata": {},
   "outputs": [],
   "source": [
    "sequence = nodes[0]\n",
    "print(sequence.shape)\n",
    "sequence = np.transpose(sequence, [0,2,1])\n",
    "\n",
    "animation = animate_stick(sequence[:,:,:3], figsize=(10,8), cmap='inferno', cloud=False)\n",
    "HTML(animation.to_html5_video())"
   ]
  },
  {
   "cell_type": "code",
   "execution_count": null,
   "metadata": {},
   "outputs": [],
   "source": [
    "# def unison_shuffled_copies(a, b, c):\n",
    "#     assert len(a) == len(b) == len(c)\n",
    "#     p = np.random.permutation(len(a))\n",
    "#     return a[p], b[p], c[p]\n",
    "\n",
    "# nodes, velocities, edges = unison_shuffled_copies(nodes, velocities, edges) # shuffle all of them in the same way"
   ]
  },
  {
   "cell_type": "code",
   "execution_count": null,
   "metadata": {},
   "outputs": [],
   "source": [
    "train_index = int(n_simulations*(.8)) # first 80% go to the training set; remaining 20% go to the validation set\n",
    "print(train_index)"
   ]
  },
  {
   "cell_type": "code",
   "execution_count": null,
   "metadata": {},
   "outputs": [],
   "source": [
    "suffix = \"_dance_noshuffle\"\n",
    "np.save(\"../../NRI/data/loc_train\"+suffix+\".npy\", nodes[:train_index, :, :3, :])\n",
    "np.save(\"../../NRI/data/vel_train\"+suffix+\".npy\", nodes[:train_index, :, 3:, :])\n",
    "np.save(\"../../NRI/data/edges_train\"+suffix+\".npy\", edges[:train_index])\n",
    "\n",
    "np.save(\"../../NRI/data/loc_valid\"+suffix+\".npy\", nodes[train_index:, :, :3, :])\n",
    "np.save(\"../../NRI/data/vel_valid\"+suffix+\".npy\", nodes[train_index:, :, 3:, :])\n",
    "np.save(\"../../NRI/data/edges_valid\"+suffix+\".npy\", edges[train_index:])"
   ]
  },
  {
   "cell_type": "markdown",
   "metadata": {},
   "source": [
    "Preview the samples you just saved:"
   ]
  },
  {
   "cell_type": "code",
   "execution_count": null,
   "metadata": {},
   "outputs": [],
   "source": [
    "suffix = \"_dance_noshuffle\""
   ]
  },
  {
   "cell_type": "code",
   "execution_count": null,
   "metadata": {},
   "outputs": [],
   "source": [
    "nodes = np.load(\"../../NRI/data/loc_train\"+suffix+\".npy\")\n",
    "velocities = np.load(\"../../NRI/data/vel_train\"+suffix+\".npy\")\n",
    "edges = np.load(\"../../NRI/data/edges_train\"+suffix+\".npy\")\n",
    "i = 0\n",
    "seq_len = 49\n",
    "\n",
    "sequence = nodes[i]\n",
    "sequence = np.transpose(sequence, [0,2,1])\n",
    "\n",
    "# only do this if not using reduced joints:\n",
    "animation = animate_stick(sequence[:,:,:3], figsize=(10,8), cmap='inferno', cloud=False)\n",
    "HTML(animation.to_html5_video())"
   ]
  },
  {
   "cell_type": "code",
   "execution_count": null,
   "metadata": {},
   "outputs": [],
   "source": [
    "nodes.shape"
   ]
  },
  {
   "cell_type": "code",
   "execution_count": null,
   "metadata": {},
   "outputs": [],
   "source": [
    "# first 10 timesteps of joint 0_x: \n",
    "nodes[0,:5,0,0]"
   ]
  },
  {
   "cell_type": "markdown",
   "metadata": {},
   "source": [
    "### Now make the test set, with a longer sequence length (1000 timesteps), starting after timestep 49*500 = 24,500"
   ]
  },
  {
   "cell_type": "code",
   "execution_count": null,
   "metadata": {},
   "outputs": [],
   "source": [
    "(38309-24500)/1000"
   ]
  },
  {
   "cell_type": "code",
   "execution_count": null,
   "metadata": {},
   "outputs": [],
   "source": [
    "n_simulations = 13\n",
    "seq_length = 1000\n",
    "nodes = []\n",
    "edges = []\n",
    "start = 24500\n",
    "\n",
    "for n in range(n_simulations):\n",
    "    sequence = data[start:start+seq_length]\n",
    "    nodes.append(sequence)\n",
    "    edges.append(np.ones((n_joints,n_joints))) # fully-connected\n",
    "    start += seq_length+1\n",
    "\n",
    "nodes = np.stack(nodes)\n",
    "edges = np.stack(edges)"
   ]
  },
  {
   "cell_type": "code",
   "execution_count": null,
   "metadata": {},
   "outputs": [],
   "source": [
    "print(nodes.shape)\n",
    "print(edges.shape)"
   ]
  },
  {
   "cell_type": "code",
   "execution_count": null,
   "metadata": {},
   "outputs": [],
   "source": [
    "suffix = \"_dance_noshuffle\""
   ]
  },
  {
   "cell_type": "code",
   "execution_count": null,
   "metadata": {},
   "outputs": [],
   "source": [
    "np.save(\"../../NRI/data/loc_test\"+suffix+\".npy\", nodes[:, :, :3, :])\n",
    "np.save(\"../../NRI/data/vel_test\"+suffix+\".npy\", nodes[:, :, 3:, :])\n",
    "np.save(\"../../NRI/data/edges_test\"+suffix+\".npy\", edges)"
   ]
  },
  {
   "cell_type": "markdown",
   "metadata": {},
   "source": [
    "Preview the test set you just saved:"
   ]
  },
  {
   "cell_type": "code",
   "execution_count": null,
   "metadata": {},
   "outputs": [],
   "source": [
    "suffix = \"_dance_noshuffle\"\n",
    "n_joints = 53\n",
    "seq_len = 1000"
   ]
  },
  {
   "cell_type": "code",
   "execution_count": null,
   "metadata": {},
   "outputs": [],
   "source": [
    "nodes = np.load(\"../../NRI/data/loc_test\"+suffix+\".npy\") \n",
    "velocities = np.load(\"../../NRI/data/vel_test\"+suffix+\".npy\")\n",
    "edges = np.load(\"../../NRI/data/edges_test\"+suffix+\".npy\")"
   ]
  },
  {
   "cell_type": "code",
   "execution_count": null,
   "metadata": {},
   "outputs": [],
   "source": [
    "i = 0\n",
    "seq_len = 1000\n",
    "sequence = nodes[i]\n",
    "sequence = np.transpose(sequence, [0,2,1])\n",
    "animation = animate_stick(sequence[:,:,:3], figsize=(10,8), cmap='inferno', cloud=False)\n",
    "HTML(animation.to_html5_video())"
   ]
  },
  {
   "cell_type": "code",
   "execution_count": null,
   "metadata": {},
   "outputs": [],
   "source": []
  }
 ],
 "metadata": {
  "kernelspec": {
   "display_name": "pytorch_geo",
   "language": "python",
   "name": "pytorch_geo"
  },
  "language_info": {
   "codemirror_mode": {
    "name": "ipython",
    "version": 3
   },
   "file_extension": ".py",
   "mimetype": "text/x-python",
   "name": "python",
   "nbconvert_exporter": "python",
   "pygments_lexer": "ipython3",
   "version": "3.6.10"
  }
 },
 "nbformat": 4,
 "nbformat_minor": 4
}
