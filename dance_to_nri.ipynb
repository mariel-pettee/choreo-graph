{
 "cells": [
  {
   "cell_type": "code",
   "execution_count": null,
   "metadata": {},
   "outputs": [],
   "source": [
    "%load_ext autoreload\n",
    "%autoreload 2\n",
    "from functions.seq_autoencoder import *\n",
    "from tqdm import tqdm\n",
    "import pickle"
   ]
  },
  {
   "cell_type": "code",
   "execution_count": null,
   "metadata": {},
   "outputs": [],
   "source": [
    "ds_all, ds_all_centered, datasets, datasets_centered, ds_counts = load_data()"
   ]
  },
  {
   "cell_type": "code",
   "execution_count": null,
   "metadata": {},
   "outputs": [],
   "source": [
    "seq_len = 49\n",
    "index_start = 0\n",
    "# index_start = np.random.randint(0,len(ds_all_centered)-seq_len)\n",
    "print(\"Seeding with frame {}\".format(index_start))\n",
    "xtest = ds_all_centered[index_start:index_start+seq_len]\n",
    "animation = animate_stick(xtest, \n",
    "                          figsize=(10,8), \n",
    "                          cmap='inferno', \n",
    "                          cloud=False\n",
    "                         )\n",
    "HTML(animation.to_html5_video())"
   ]
  },
  {
   "cell_type": "markdown",
   "metadata": {},
   "source": [
    "# Convert to NRI format"
   ]
  },
  {
   "cell_type": "code",
   "execution_count": null,
   "metadata": {},
   "outputs": [],
   "source": [
    "ds_all_centered = ds_all_centered.reshape((38309,3,53))\n",
    "print(ds_all_centered.shape)"
   ]
  },
  {
   "cell_type": "markdown",
   "metadata": {},
   "source": [
    "### Optional: create reduced-joints training set (31 joints, to match NRI)"
   ]
  },
  {
   "cell_type": "code",
   "execution_count": null,
   "metadata": {},
   "outputs": [],
   "source": [
    "point_labels=['ARIEL','C7','CLAV','LANK','LBHD','LBSH','LBWT','LELB','LFHD',\n",
    "          'LFRM','LFSH','LFWT','LHEL','LIEL','LIHAND','LIWR','LKNE','LKNI',\n",
    "          'LMT1','LMT5','LOHAND','LOWR','LSHN','LTHI','LTOE','LUPA','MBWT',\n",
    "          'MFWT','RANK','RBHD','RBSH','RBWT','RELB','RFHD','RFRM','RFSH',\n",
    "          'RFWT','RHEL','RIEL','RIHAND','RIWR','RKNE','RKNI','RMT1','RMT5',\n",
    "          'ROHAND','ROWR','RSHN','RTHI','RTOE','RUPA','STRN','T10']\n",
    "\n",
    "### Define a subset of joints if we want to train on fewer joints that still capture meaningful body movement:\n",
    "reduced_joint_names = ['ARIEL', 'RFHD', 'LFHD', 'RBHD', 'LBHD', 'CLAV', 'C7', 'RFSH', 'LFSH', 'RIEL', 'LIEL', 'RIWR', 'LIWR','RKNE','LKNE','RTOE','LTOE','LHEL','RHEL','LANK','RANK','RKNI','LKNI','ROWR','LOWR','RELB','LELB','RFWT','LFWT','LBWT','RBWT']\n",
    "reduced_joint_indices = [point_labels.index(joint_name) for joint_name in reduced_joint_names]\n",
    "print(len(reduced_joint_indices))"
   ]
  },
  {
   "cell_type": "code",
   "execution_count": null,
   "metadata": {},
   "outputs": [],
   "source": [
    "data = ds_all_centered[:,:,reduced_joint_indices]\n",
    "print(data.shape)"
   ]
  },
  {
   "cell_type": "markdown",
   "metadata": {},
   "source": [
    "### Start with creating the train & validation sets..."
   ]
  },
  {
   "cell_type": "code",
   "execution_count": null,
   "metadata": {},
   "outputs": [],
   "source": [
    "n_simulations = 500\n",
    "seq_length = 49\n",
    "n_joints = data.shape[2]\n",
    "nodes = []\n",
    "velocities = []\n",
    "edges = []\n",
    "\n",
    "start = 0\n",
    "for n in range(n_simulations):\n",
    "    start += seq_length+1\n",
    "    sequence = data[start:start+seq_length]\n",
    "    nodes.append(sequence)\n",
    "    velocities.append(np.vstack([np.zeros((1,3,n_joints)),np.stack([(sequence[i+1] - sequence[i])*35 for i in range(seq_length-1)])])) # first velocity is always 0, I guess\n",
    "    edges.append(np.ones((n_joints,n_joints))) # fully-connected\n",
    "\n",
    "nodes = np.stack(nodes)\n",
    "velocities = np.stack(velocities)\n",
    "edges = np.stack(edges)"
   ]
  },
  {
   "cell_type": "code",
   "execution_count": null,
   "metadata": {},
   "outputs": [],
   "source": [
    "print(nodes.shape)\n",
    "print(velocities.shape)\n",
    "print(edges.shape)"
   ]
  },
  {
   "cell_type": "code",
   "execution_count": null,
   "metadata": {},
   "outputs": [],
   "source": [
    "def unison_shuffled_copies(a, b, c):\n",
    "    assert len(a) == len(b) == len(c)\n",
    "    p = np.random.permutation(len(a))\n",
    "    return a[p], b[p], c[p]"
   ]
  },
  {
   "cell_type": "code",
   "execution_count": null,
   "metadata": {},
   "outputs": [],
   "source": [
    "nodes, velocities, edges = unison_shuffled_copies(nodes, velocities, edges) # shuffle all of them in the same way"
   ]
  },
  {
   "cell_type": "code",
   "execution_count": null,
   "metadata": {},
   "outputs": [],
   "source": [
    "train_index = int(n_simulations*(.8)) # first 80% go to the training set; remaining 20% go to the validation set\n",
    "print(train_index)"
   ]
  },
  {
   "cell_type": "code",
   "execution_count": null,
   "metadata": {},
   "outputs": [],
   "source": [
    "suffix = \"_dance_31\"\n",
    "np.save(\"../NRI/data/loc_train\"+suffix+\".npy\", nodes[:train_index])\n",
    "np.save(\"../NRI/data/vel_train\"+suffix+\".npy\", velocities[:train_index])\n",
    "np.save(\"../NRI/data/edges_train\"+suffix+\".npy\", edges[:train_index])\n",
    "\n",
    "np.save(\"../NRI/data/loc_valid\"+suffix+\".npy\", nodes[train_index:])\n",
    "np.save(\"../NRI/data/vel_valid\"+suffix+\".npy\", velocities[train_index:])\n",
    "np.save(\"../NRI/data/edges_valid\"+suffix+\".npy\", edges[train_index:])"
   ]
  },
  {
   "cell_type": "markdown",
   "metadata": {},
   "source": [
    "Preview the samples you just saved:"
   ]
  },
  {
   "cell_type": "code",
   "execution_count": null,
   "metadata": {},
   "outputs": [],
   "source": [
    "nodes = np.load(\"../NRI/data/loc_train\"+suffix+\".npy\")\n",
    "velocities = np.load(\"../NRI/data/vel_train\"+suffix+\".npy\")\n",
    "edges = np.load(\"../NRI/data/edges_train\"+suffix+\".npy\")\n",
    "\n",
    "if n_joints == 53:\n",
    "    animation = animate_stick(nodes[1].reshape((seq_len,n_joints,3)), figsize=(10,8), cmap='inferno', cloud=False)\n",
    "    HTML(animation.to_html5_video())\n",
    "    \n",
    "else:\n",
    "    print(nodes.shape)"
   ]
  },
  {
   "cell_type": "markdown",
   "metadata": {},
   "source": [
    "### Now make the test set, with a longer sequence length (1000 timesteps), starting after timestep 49*500 = 24,500"
   ]
  },
  {
   "cell_type": "code",
   "execution_count": null,
   "metadata": {},
   "outputs": [],
   "source": [
    "(38309-24500)/1000"
   ]
  },
  {
   "cell_type": "code",
   "execution_count": null,
   "metadata": {},
   "outputs": [],
   "source": [
    "n_simulations = 12\n",
    "seq_length = 1000\n",
    "nodes = []\n",
    "velocities = []\n",
    "edges = []\n",
    "start = 24500\n",
    "\n",
    "for n in range(n_simulations):\n",
    "    start += seq_length+1\n",
    "    sequence = data[start:start+seq_length]\n",
    "    nodes.append(sequence)\n",
    "    velocities.append(np.vstack([np.zeros((1,3,n_joints)),np.stack([(sequence[i+1] - sequence[i])*35 for i in range(seq_length-1)])])) # first velocity is always 0, I guess\n",
    "    edges.append(np.ones((n_joints,n_joints))) # fully-connected\n",
    "\n",
    "nodes = np.stack(nodes)\n",
    "velocities = np.stack(velocities)\n",
    "edges = np.stack(edges)"
   ]
  },
  {
   "cell_type": "code",
   "execution_count": null,
   "metadata": {},
   "outputs": [],
   "source": [
    "print(nodes.shape)\n",
    "print(velocities.shape)\n",
    "print(edges.shape)"
   ]
  },
  {
   "cell_type": "code",
   "execution_count": null,
   "metadata": {},
   "outputs": [],
   "source": [
    "np.save(\"../NRI/data/loc_test\"+suffix+\".npy\", nodes)\n",
    "np.save(\"../NRI/data/vel_test\"+suffix+\".npy\", velocities)\n",
    "np.save(\"../NRI/data/edges_test\"+suffix+\".npy\", edges)"
   ]
  },
  {
   "cell_type": "markdown",
   "metadata": {},
   "source": [
    "Preview the test set you just saved:"
   ]
  },
  {
   "cell_type": "code",
   "execution_count": null,
   "metadata": {},
   "outputs": [],
   "source": [
    "suffix = \"_dance\"\n",
    "n_joints = 53\n",
    "seq_len = 1000"
   ]
  },
  {
   "cell_type": "code",
   "execution_count": null,
   "metadata": {},
   "outputs": [],
   "source": [
    "nodes = np.load(\"../NRI/data/loc_test\"+suffix+\".npy\") \n",
    "velocities = np.load(\"../NRI/data/vel_test\"+suffix+\".npy\")\n",
    "edges = np.load(\"../NRI/data/edges_test\"+suffix+\".npy\")"
   ]
  },
  {
   "cell_type": "code",
   "execution_count": null,
   "metadata": {},
   "outputs": [],
   "source": [
    "if n_joints == 53:\n",
    "    animation = animate_stick(nodes[0].reshape((seq_len,n_joints,3)), figsize=(10,8), cmap='inferno', cloud=False)\n",
    "    HTML(animation.to_html5_video())\n",
    "    \n",
    "else:\n",
    "    print(nodes.shape)"
   ]
  },
  {
   "cell_type": "code",
   "execution_count": null,
   "metadata": {},
   "outputs": [],
   "source": [
    "animation = animate_stick(nodes[0].reshape((seq_len,n_joints,3)), figsize=(10,8), cmap='inferno', cloud=False)\n",
    "HTML(animation.to_html5_video())"
   ]
  },
  {
   "cell_type": "markdown",
   "metadata": {},
   "source": [
    "# Visualize the NRI training outputs"
   ]
  },
  {
   "cell_type": "code",
   "execution_count": null,
   "metadata": {},
   "outputs": [],
   "source": [
    "import matplotlib.pyplot as plt\n",
    "import numpy as np\n",
    "from functions.seq_autoencoder import *\n",
    "from tqdm import tqdm\n",
    "import pickle"
   ]
  },
  {
   "cell_type": "code",
   "execution_count": null,
   "metadata": {},
   "outputs": [],
   "source": [
    "predicted_outputs = pickle.load(open(\"../NRI/logs/dance_dynamic_100/exp2020-06-25T13:16:24.799045/predicted_outputs.txt\", \"rb\"))\n",
    "actual_outputs = pickle.load(open(\"../NRI/logs/dance_dynamic_100/exp2020-06-25T13:16:24.799045/actual_outputs.txt\", \"rb\"))\n",
    "\n",
    "# actual = actual_outputs[0][0,:,:,:3]\n",
    "actual = np.column_stack([actual_outputs[0][i,:,:,:3] for i in range(actual_outputs[0].shape[0])])\n",
    "actual = np.transpose(actual, [1, 2, 0])\n",
    "\n",
    "# pred = predicted_outputs[0][0,:,:,:3]\n",
    "pred = np.column_stack([predicted_outputs[0][i,:,:,:3] for i in range(predicted_outputs[0].shape[0])])\n",
    "pred = np.transpose(pred, [1, 2, 0])\n",
    "\n",
    "actual = actual.reshape((240,53,3))\n",
    "pred = pred.reshape((240,53,3))"
   ]
  },
  {
   "cell_type": "code",
   "execution_count": null,
   "metadata": {},
   "outputs": [],
   "source": [
    "animation = animate_stick(actual, \n",
    "                          ghost=pred, \n",
    "                          figsize=(10,8), cmap='inferno')\n",
    "HTML(animation.to_html5_video())"
   ]
  },
  {
   "cell_type": "code",
   "execution_count": null,
   "metadata": {},
   "outputs": [],
   "source": [
    "mse_test = [ 0.000337863894 , 0.000569751021 , 0.000840535213 , 0.001180468476 , 0.001579841599 , 0.002035367070 , 0.002553931205 , 0.003107692348 , 0.003623061813 , 0.004009141121 , 0.004296756815 , 0.004578069318 , 0.004871356301 , 0.005190063268 , 0.005514046643 , 0.005848178174 , 0.006159576122 , 0.006420182064 , 0.006612744182 , 0.006768682506 ]\n",
    "mse_test_dyn = [ 0.000500174589 , 0.000889179239 , 0.001262980397 , 0.001658875612 , 0.002119172597 , 0.002653984353 , 0.003264253959 , 0.003904822282 , 0.004489233717 , 0.004933490884 , 0.005274188239 , 0.005597801879 , 0.005930843297 , 0.006294844206 , 0.006670393050 , 0.007059812080 , 0.007422284689 , 0.007719283924 , 0.007925900631 , 0.008069579490 ]\n",
    "mse_test_dyn_31 = [ 0.000147044295 , 0.000360106147 , 0.000645078777 , 0.000985761406 , 0.001385443378 , 0.001845288207 , 0.002396278316 , 0.003008906497 , 0.003593732370 , 0.004052922595 , 0.004457526375 , 0.004849275108 , 0.005230603274 , 0.005605455488 , 0.005954285618 , 0.006282209884 , 0.006549014244 , 0.006758849602 , 0.006898567080 , 0.007009927183 ]\n",
    "fig, ax = plt.subplots(figsize=(10,7))\n",
    "ax.plot(np.linspace(0,len(mse_test)*1000,20), mse_test, label=\"All Joints\")\n",
    "ax.plot(np.linspace(0,len(mse_test_dyn)*1000,20), mse_test_dyn, label=\"All Joints (Dynamic Graph)\")\n",
    "ax.plot(np.linspace(0,len(mse_test_dyn_31)*1000,20), mse_test_dyn_31, label=\"31 Joints (Dynamic Graph)\")\n",
    "ax.set_xlabel(\"Timesteps in the Future\", fontsize=16)\n",
    "ax.set_ylabel(\"Mean-Squared Error\", fontsize=16)\n",
    "ax.legend(fontsize=16)\n",
    "ax.tick_params(labelsize=14)\n",
    "ax.grid(True, linestyle='-.')\n",
    "ax.set_title(\"Test MSE\", fontsize=24)\n",
    "plt.savefig(\"mse_test.png\")"
   ]
  },
  {
   "cell_type": "code",
   "execution_count": null,
   "metadata": {},
   "outputs": [],
   "source": [
    "mse_val = [0.1985629797,0.1730879396,0.1424342394,0.1129891947,0.0867334306,0.0651665106,0.0491816886,0.0354032069,0.0234651826,0.0168670025,0.0140645234,0.0126876300,0.0122165810,0.0118077099,0.0114783766,0.0112006161,0.0108778579,0.0105574643,0.0100935455,0.0095420601,0.0090124831,0.0084489658,0.0078192661,0.0072438526,0.0066445502,0.0059939935,0.0053296452,0.0046722828,0.0040471884,0.0034665596,0.0029584155,0.0025502117,0.0022203960,0.0019567029,0.0017642714,0.0016075233,0.0014557041,0.0013222282,0.0012207478,0.0011448750,0.0010886523,0.0010471749,0.0010204784,0.0010136792,0.0010053384,0.0009795692,0.0009758105,0.0009729589,0.0009614107,0.0009526493,0.0009448236,0.0009318838,0.0009233282,0.0009217858,0.0009174432,0.0009035217,0.0008959490,0.0008957117,0.0008942565,0.0008840684,0.0008754164,0.0008734678,0.0008729949,0.0008677421,0.0008562242,0.0008491043,0.0008466687,0.0008433846,0.0008373906,0.0008321531,0.0008311191,0.0008310130,0.0008200273,0.0008119582,0.0008089118,0.0008086908,0.0008025524,0.0007959726,0.0007913178,0.0007902170,0.0007838566,0.0007715687,0.0007701280,0.0007680004,0.0007630836,0.0007613782,0.0007567342,0.0007562892,0.0007539855,0.0007493485,0.0007462697,0.0007446230,0.0007435887,0.0007412342,0.0007369507,0.0007327907,0.0007309802,0.0007260019,0.0007201259,0.0007171400,0.0007163984,0.0007117960,0.0007079190,0.0007069991,0.0007053206,0.0007005377,0.0006948150,0.0006935751,0.0006904854,0.0006862998,0.0006861060,0.0006841625,0.0006808146,0.0006797123,0.0006796088,0.0006755175,0.0006706867,0.0006685929,0.0006662707,0.0006611502,0.0006588390,0.0006585711,0.0006521909,0.0006491622,0.0006485938,0.0006475612,0.0006424676,0.0006397422,0.0006381946,0.0006339625,0.0006312610,0.0006304442,0.0006272433,0.0006239768,0.0006214220,0.0006201507,0.0006156504,0.0006137837,0.0006114083,0.0006083620,0.0006077517,0.0006041283,0.0006007819,0.0005990516,0.0005960749,0.0005939692,0.0005898118,0.0005877268,0.0005851102,0.0005822491,0.0005815662,0.0005785917,0.0005759307,0.0005759111,0.0005754770,0.0005720837,0.0005696203,0.0005687728,0.0005682722,0.0005672809,0.0005663651,0.0005658095,0.0005655174,0.0005649544,0.0005641121,0.0005633154,0.0005626641,0.0005619964,0.0005613188,0.0005606212,0.0005598944,0.0005591792,0.0005584945,0.0005577578,0.0005570282,0.0005562847,0.0005555556,0.0005548481,0.0005541602,0.0005534518,0.0005527497,0.0005520358,0.0005513608,0.0005506784,0.0005500022,0.0005493087,0.0005486266,0.0005479535,0.0005472607,0.0005465778,0.0005458925,0.0005452034,0.0005445124,0.0005438614,0.0005432211,0.0005425686,0.0005418967,0.0005412316,0.0005405763,0.0005399099,0.0005392428,0.0005385856,0.0005379461,0.0005372981,0.0005366532]\n",
    "# mse_val_dyn = [0.1985623240,0.1730792224,0.1424250156,0.1129819527,0.0867385045,0.0651640967,0.0491620041,0.0353810377,0.0234431420,0.0168574285,0.0140385507,0.0126619264,0.0122145116,0.0117840692,0.0114420569,0.0111973220,0.0108971130,0.0105448673,0.0100282338,0.0094848648,0.0089579849,0.0083662542,0.0077474588,0.0071789608,0.0065886760,0.0059517827,0.0052943067,0.0046579475,0.0040578484,0.0034935293,0.0029999504,0.0025867564,0.0022494332,0.0019785916,0.0017825408,0.0016198192,0.0014648914,0.0013306568,0.0012285974,0.0011509644,0.0010936280,0.0010498029,0.0010198338,0.0010116359,0.0010066901,0.0009772340,0.0009722150,0.0009690390,0.0009606763,0.0009543187,0.0009443219,0.0009322708,0.0009255452,0.0009242528,0.0009157057,0.0009026526,0.0008962188,0.0008959872,0.0008862964,0.0008748460,0.0008713816,0.0008709851,0.0008655727,0.0008565443,0.0008501256,0.0008464105,0.0008430552,0.0008352294,0.0008166134,0.0008144777,0.0008120536,0.0008074070,0.0008028887,0.0007977370,0.0007962242,0.0007933261,0.0007889134,0.0007863236,0.0007808114,0.0007793175,0.0007760355,0.0007715956]\n",
    "mse_val_dyn_31 = [0.0406932011,0.0357623734,0.0225021094,0.0117337573,0.0059528248,0.0036325911,0.0030615551,0.0024273759,0.0020813574,0.0017306932,0.0014058803,0.0011864279,0.0010357366,0.0009173431,0.0008800765,0.0008533348,0.0008344746,0.0008166940,0.0007997869,0.0007880513,0.0007650286,0.0007448499,0.0007234571,0.0007074273,0.0006928319,0.0006797859,0.0006619231,0.0006488593,0.0006347162,0.0006196251,0.0006087878,0.0005972206,0.0005859734,0.0005726642,0.0005662027,0.0005534255,0.0005446627,0.0005325316,0.0005253337,0.0005178820,0.0005098607,0.0005007804,0.0004932731,0.0004861893,0.0004773904,0.0004698192,0.0004646154,0.0004564455,0.0004496606,0.0004465015,0.0004414917,0.0004349088,0.0004301016,0.0004225380,0.0004200227,0.0004131761,0.0004084196,0.0004033371,0.0003992737,0.0003942655,0.0003901332,0.0003856774,0.0003817291,0.0003791069,0.0003747096,0.0003690973,0.0003658193,0.0003622837,0.0003577571,0.0003551890,0.0003513847,0.0003489139,0.0003451534,0.0003415536,0.0003389328,0.0003361309,0.0003331286,0.0003304770,0.0003271702,0.0003253015,0.0003221458,0.0003195195,0.0003182660,0.0003146338,0.0003124987,0.0003108936,0.0003076025,0.0003073598,0.0003047054,0.0003027043,0.0003003951,0.0002986544,0.0002971950,0.0002955737,0.0002928084,0.0002921110,0.0002898611,0.0002882505,0.0002876788,0.0002850163,]\n",
    "fig, ax = plt.subplots(figsize=(10,7))\n",
    "ax.plot(np.arange(len(mse_val)), mse_val, label=\"All Joints\")\n",
    "# ax.plot(np.arange(len(mse_val_dyn)), mse_val_dyn, label=\"All Joints (Dynamic Graph)\")\n",
    "ax.plot(np.arange(len(mse_val_dyn_31)), mse_val_dyn_31, label=\"31 Joints\")\n",
    "ax.set_xlabel(\"Epochs\", fontsize=16)\n",
    "ax.set_ylabel(\"Mean-Squared Error\", fontsize=16)\n",
    "# ax.set_yscale('log')\n",
    "ax.legend(fontsize=16)\n",
    "ax.set_title(\"Validation MSE during Training\", fontsize=24)\n",
    "ax.tick_params(labelsize=14)\n",
    "ax.grid(True, linestyle='-.')\n",
    "plt.savefig(\"mse_val.png\")"
   ]
  },
  {
   "cell_type": "code",
   "execution_count": null,
   "metadata": {},
   "outputs": [],
   "source": []
  }
 ],
 "metadata": {
  "kernelspec": {
   "display_name": "Python 3",
   "language": "python",
   "name": "python3"
  },
  "language_info": {
   "codemirror_mode": {
    "name": "ipython",
    "version": 3
   },
   "file_extension": ".py",
   "mimetype": "text/x-python",
   "name": "python",
   "nbconvert_exporter": "python",
   "pygments_lexer": "ipython3",
   "version": "3.6.5"
  }
 },
 "nbformat": 4,
 "nbformat_minor": 4
}
